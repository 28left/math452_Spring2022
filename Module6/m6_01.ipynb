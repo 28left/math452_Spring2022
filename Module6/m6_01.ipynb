{
 "cells": [
  {
   "cell_type": "markdown",
   "metadata": {},
   "source": [
    "# MgNet: a special CNN based on multigrid method "
   ]
  },
  {
   "cell_type": "code",
   "execution_count": 1,
   "metadata": {},
   "outputs": [
    {
     "data": {
      "text/html": [
       "\n",
       "        <iframe\n",
       "            width=\"800\"\n",
       "            height=\"500\"\n",
       "            src=\"https://cdnapisec.kaltura.com/p/2356971/sp/235697100/embedIframeJs/uiconf_id/41416911/partner_id/2356971?iframeembed=true&playerId=kaltura_player&entry_id=1_luk1i2xr&flashvars[streamerType]=auto&amp;flashvars[localizationCode]=en&amp;flashvars[leadWithHTML5]=true&amp;flashvars[sideBarContainer.plugin]=true&amp;flashvars[sideBarContainer.position]=left&amp;flashvars[sideBarContainer.clickToClose]=true&amp;flashvars[chapters.plugin]=true&amp;flashvars[chapters.layout]=vertical&amp;flashvars[chapters.thumbnailRotator]=false&amp;flashvars[streamSelector.plugin]=true&amp;flashvars[EmbedPlayer.SpinnerTarget]=videoHolder&amp;flashvars[dualScreen.plugin]=true&amp;flashvars[hotspots.plugin]=1&amp;flashvars[Kaltura.addCrossoriginToIframe]=true&amp;&wid=1_s9zzktyl\"\n",
       "            frameborder=\"0\"\n",
       "            allowfullscreen\n",
       "        ></iframe>\n",
       "        "
      ],
      "text/plain": [
       "<IPython.lib.display.IFrame at 0x1069b7780>"
      ]
     },
     "execution_count": 1,
     "metadata": {},
     "output_type": "execute_result"
    }
   ],
   "source": [
    "from IPython.display import IFrame\n",
    "\n",
    "IFrame(src=\"https://cdnapisec.kaltura.com/p/2356971/sp/235697100/embedIframeJs/uiconf_id/41416911/partner_id/2356971?iframeembed=true&playerId=kaltura_player&entry_id=1_luk1i2xr&flashvars[streamerType]=auto&amp;flashvars[localizationCode]=en&amp;flashvars[leadWithHTML5]=true&amp;flashvars[sideBarContainer.plugin]=true&amp;flashvars[sideBarContainer.position]=left&amp;flashvars[sideBarContainer.clickToClose]=true&amp;flashvars[chapters.plugin]=true&amp;flashvars[chapters.layout]=vertical&amp;flashvars[chapters.thumbnailRotator]=false&amp;flashvars[streamSelector.plugin]=true&amp;flashvars[EmbedPlayer.SpinnerTarget]=videoHolder&amp;flashvars[dualScreen.plugin]=true&amp;flashvars[hotspots.plugin]=1&amp;flashvars[Kaltura.addCrossoriginToIframe]=true&amp;&wid=1_s9zzktyl\",width='800', height='500')"
   ]
  },
  {
   "cell_type": "markdown",
   "metadata": {},
   "source": [
    "1D and 2D Finite Element and Multigrid\n",
    "-------------------------------------\n",
    "\n",
    "1D and 2D Comparison for Finite Element and Multigrid\n",
    "\n",
    "![image](2022_01_06_175a66d2121dcf20361ag-1){width=\"\\textwidth\"}\n",
    "\n",
    "Basic multigrid components\n",
    "\n",
    "![image](2022_01_06_175a66d2121dcf20361ag-2){width=\"\\textwidth\"}\n",
    "\n",
    "### Multigrid algorithm for $A * \\mu=f$\n",
    "\n",
    "Algorithm 11 A multigrid algorithm $\\mu=\\operatorname{MG} 1\\left(f ; \\mu^{0} ; J, v_{1}, \\cdots, v_{J}\\right)$ Set up\n",
    "=====================================================================================================================\n",
    "\n",
    "$$f^{1}=f, \\quad \\mu^{1}=\\mu^{0}$$ Smoothing and restriction from fine\n",
    "to coarse level (nested)\n",
    "\n",
    "for $\\ell=1: J$ do\n",
    "\n",
    "for $i=1: v_{\\ell}$ do\n",
    "$$\\mu^{\\ell} \\leftarrow \\mu^{\\ell}+S^{\\ell} *\\left(f^{\\ell}-A_{\\ell} * \\mu^{\\ell}\\right)$$\n",
    "end for\n",
    "\n",
    "Form restricted residual and set initial guess:\n",
    "$$\\mu^{\\ell+1} \\leftarrow \\Pi_{\\ell}^{\\ell+1} \\mu^{\\ell}, \\quad f^{\\ell+1} \\leftarrow R *_{2}\\left(f^{\\ell}-A_{\\ell} * \\mu^{\\ell}\\right)+A_{\\ell+1} * \\mu^{\\ell+1},$$\n",
    "end for\n",
    "\n",
    "Prolongation and restriction from coarse to fine level\n",
    "\n",
    "for $\\ell=J-1: 1$ do\n",
    "$$\\mu^{\\ell} \\leftarrow \\mu^{\\ell}+R *_{2}^{\\top}\\left(\\mu^{\\ell+1}-\\Pi_{\\ell}^{\\ell+1} \\mu^{\\ell}\\right)$$\n",
    "end for $$\\mu \\leftarrow \\mu^{1}$$ Remark 9. The above multigrid method\n",
    "for the linear problem $A * \\mu=b$ is independent of the choice of the\n",
    "interpolation operation\n",
    "$\\Pi_{\\ell}^{\\ell+1}: \\mathbb{R}^{n_{\\ell} \\times n_{\\ell}} \\mapsto \\mathbb{R}^{n_{\\ell+1} \\times n_{\\ell+1}}$\n",
    "and in particular, we could take $\\Pi_{\\ell}^{\\ell+1}:=0$. But such an\n",
    "operation is critical for nonlinear problems.\n",
    "\n",
    "### MgNet\n",
    "\n",
    "Algorithm\n",
    "$12 \\mu^{J}=\\operatorname{MgNet} 1\\left(f ; \\mu^{0} ; J, v_{1}, \\cdots, v_{J}\\right)$\n",
    "$$\\begin{array}{l}\\text { Set up } \\\\ \\qquad f^{1}=\\theta * f, \\quad \\mu^{1}=\\mu^{0} .\\end{array}$$\n",
    "Smoothing and restriction from fine to coarse level (nested)\\\n",
    "for $\\ell=1: J$ do $\\quad$ for $i=1: v_{\\ell}$ do\\\n",
    "(8.34)\n",
    "$\\quad \\mu^{\\ell} \\leftarrow \\mu^{\\ell}+\\sigma \\circ S^{\\ell} * \\sigma \\circ\\left(f^{\\ell}-A_{\\ell} * \\mu^{\\ell}\\right) .$\\\n",
    "end for\n",
    "$\\quad f^{\\ell+1} \\leftarrow \\Pi_{\\ell}^{\\ell+1} \\mu^{\\ell}, \\quad f^{\\ell+1} \\leftarrow R *_{2}\\left(f^{\\ell}-A_{\\ell} * \\mu^{\\ell}\\right)+A_{\\ell+1} * \\mu^{\\ell+1}$,\\\n",
    "Form restricted residual and set initial guess:\\\n",
    "end for\n"
   ]
  }
 ],
 "metadata": {
  "kernelspec": {
   "display_name": "Python 3",
   "language": "python",
   "name": "python3"
  },
  "language_info": {
   "codemirror_mode": {
    "name": "ipython",
    "version": 3
   },
   "file_extension": ".py",
   "mimetype": "text/x-python",
   "name": "python",
   "nbconvert_exporter": "python",
   "pygments_lexer": "ipython3",
   "version": "3.7.1"
  }
 },
 "nbformat": 4,
 "nbformat_minor": 2
}
