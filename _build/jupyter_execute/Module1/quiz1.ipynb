{
 "cells": [
  {
   "cell_type": "markdown",
   "id": "74cfe843",
   "metadata": {},
   "source": [
    "# Quiz 1"
   ]
  },
  {
   "cell_type": "code",
   "execution_count": 1,
   "id": "7253864e",
   "metadata": {
    "tags": [
     "hide-input"
    ]
   },
   "outputs": [],
   "source": [
    "import ipywidgets as widgets"
   ]
  },
  {
   "cell_type": "markdown",
   "id": "e82f8220",
   "metadata": {},
   "source": [
    "## Question 1\n",
    "Consider three sets \n",
    "\n",
    "$$\n",
    "    A_1=\\{(x,y)\\in R^2:x^2+y^2\\le \\frac{1}{4}\\}, \\quad A_2=\\{(x,y)\\in R^2:(x-\\frac{1}{2})^2+y^2\\le \\frac{1}{4}\\}\n",
    "$$\n",
    "\n",
    "and $A_3=\\{(x,y)\\in R^2:(x-\\frac{3}{2})^2+y^2\\le \\frac{1}{4}\\}$\n",
    "\n",
    "Which two sets are linearly separable ?\n",
    "\n"
   ]
  },
  {
   "cell_type": "markdown",
   "id": "ff4b5ac7",
   "metadata": {},
   "source": [
    "```{dropdown} Show answer\n",
    "Answer:  $A_1$,$A_3$ are linearly separable\n",
    "```"
   ]
  },
  {
   "cell_type": "markdown",
   "id": "690ecb91",
   "metadata": {},
   "source": [
    "## Question 2\n",
    "Consider three sets $A_1,A_2,A_3\\subset R^d$, and three sentences listed below\n",
    "\n",
    "-A: $A_1,A_2,A_3$ are all-vs-one linearly separable.\n",
    "\n",
    "-B: $A_1,A_2,A_3$ are  linearly separable.\n",
    "\n",
    "-C: $A_1,A_2,A_3$ are pairwise linearly separable.\n",
    "\n",
    "Which sentence implies other sentence ? "
   ]
  },
  {
   "cell_type": "markdown",
   "id": "7b6057a8",
   "metadata": {},
   "source": [
    "```{dropdown} Show answer\n",
    "Answer: A implies B; C implies B\n",
    "```"
   ]
  },
  {
   "cell_type": "markdown",
   "id": "0ea8d831",
   "metadata": {},
   "source": [
    "# Question 3 \n",
    "Let \n",
    "\n",
    "$$\n",
    "    \\boldsymbol a=\n",
    "\\begin{bmatrix}\n",
    "1\\\\\n",
    "1\\\\\n",
    "1\\\\\n",
    "\\vdots\\\\\n",
    "1\n",
    "\\end{bmatrix}\n",
    "\\in R^n, A=\\boldsymbol a\\boldsymbol a^T\n",
    "$$\n",
    "\n",
    "Compute the eigenvalues and corresponding eigenvectors of $A$.\n",
    "Write out solution"
   ]
  },
  {
   "cell_type": "markdown",
   "id": "e5d8b80f",
   "metadata": {},
   "source": [
    "```{dropdown} Show answer\n",
    "$$\n",
    "    \\lambda =n , x = \\begin{bmatrix}\n",
    "1\\\\\n",
    "1\\\\\n",
    "1\\\\\n",
    "\\vdots \\\\\n",
    "1\n",
    "\\end{bmatrix}\n",
    "$$ \n",
    "\n",
    "$$\n",
    "    \\lambda = 0,\n",
    "    x = \\begin{bmatrix}1\\\\-1\\\\0\\\\0\\\\ \\vdots\\\\0 \\end{bmatrix}\n",
    "    \\begin{bmatrix}1\\\\0\\\\-1\\\\0\\\\ \\vdots\\\\0 \\end{bmatrix}\n",
    "    \\cdots\n",
    "    \\begin{bmatrix}1\\\\0\\\\ \\vdots\\\\0\\\\0\\\\-1\\end{bmatrix}\n",
    "$$\n",
    "```"
   ]
  },
  {
   "cell_type": "markdown",
   "id": "10e65234",
   "metadata": {},
   "source": [
    "## Question 4\n",
    "Determine the global minimizer and the global minimum of the function\n",
    " $f(x,y)=e^{(x-2)^2+y^2+2x^2+2xy+2(y-4)^2+4y-16x} $"
   ]
  },
  {
   "cell_type": "markdown",
   "id": "34ce1094",
   "metadata": {},
   "source": [
    "```{dropdown} Show answer\n",
    "Minimizer (3,1). Minimum 1.\n",
    "\n",
    "```"
   ]
  },
  {
   "cell_type": "markdown",
   "id": "38b20257",
   "metadata": {},
   "source": [
    "## Question 5\n",
    "Let \n",
    "\n",
    "$$\n",
    "    \\boldsymbol x\\in R^3, A=\\left[\n",
    "\\begin{matrix}\n",
    "1&2&3\\\\\n",
    "0&4&1\\\\\n",
    "-1&-1&3\n",
    "\\end{matrix}\n",
    "\\right]\\in R^{3\\times 3}\n",
    "$$\n",
    "\n",
    "Compute the Hessian matrix of the multivariable function $f(\\boldsymbol x)=\\frac{1}{2} \\boldsymbol x^TA \\boldsymbol x.$\n",
    "\n"
   ]
  },
  {
   "cell_type": "markdown",
   "id": "7519bc95",
   "metadata": {},
   "source": [
    "```{dropdown} Show answer\n",
    "$\\frac{1}{2}(A+A^T)$\n",
    "```"
   ]
  },
  {
   "cell_type": "markdown",
   "id": "b17f76d2",
   "metadata": {},
   "source": [
    "## Question 6\n",
    "To define \n",
    "\n",
    "$$\n",
    "    A=\n",
    "\\begin{bmatrix}\n",
    "1&2&3\\\\\n",
    "4&5&6\\\\\n",
    "7&8&9\n",
    "\\end{bmatrix}\n",
    "$$\n",
    "\n",
    "what Python code should you use ? \n"
   ]
  },
  {
   "cell_type": "markdown",
   "id": "2ca149aa",
   "metadata": {},
   "source": [
    "```{dropdown} Show answer\n",
    " A = torch.tensor([[1,2,3],[4,5,6],[7,8,9]])\n",
    "```"
   ]
  },
  {
   "cell_type": "code",
   "execution_count": null,
   "id": "16253cde",
   "metadata": {},
   "outputs": [],
   "source": []
  }
 ],
 "metadata": {
  "celltoolbar": "Tags",
  "kernelspec": {
   "display_name": "Python 3 (ipykernel)",
   "language": "python",
   "name": "python3"
  },
  "language_info": {
   "codemirror_mode": {
    "name": "ipython",
    "version": 3
   },
   "file_extension": ".py",
   "mimetype": "text/x-python",
   "name": "python",
   "nbconvert_exporter": "python",
   "pygments_lexer": "ipython3",
   "version": "3.9.6"
  }
 },
 "nbformat": 4,
 "nbformat_minor": 5
}