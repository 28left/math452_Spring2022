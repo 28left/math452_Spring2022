{
 "cells": [
  {
   "cell_type": "markdown",
   "id": "74cfe843",
   "metadata": {},
   "source": [
    "# Quiz 1"
   ]
  },
  {
   "cell_type": "code",
   "execution_count": 1,
   "id": "7253864e",
   "metadata": {
    "tags": [
     "hide-input"
    ]
   },
   "outputs": [],
   "source": [
    "import ipywidgets as widgets"
   ]
  },
  {
   "cell_type": "markdown",
   "id": "e82f8220",
   "metadata": {},
   "source": [
    "## Question 1\n",
    "Consider three sets \n",
    "\n",
    "$$\n",
    "    A_1=\\{(x,y)\\in R^2:x^2+y^2\\le \\frac{1}{4}\\}, \\quad A_2=\\{(x,y)\\in R^2:(x-\\frac{1}{2})^2+y^2\\le \\frac{1}{4}\\}\n",
    "$$\n",
    "\n",
    "and $A_3=\\{(x,y)\\in R^2:(x-\\frac{3}{2})^2+y^2\\le \\frac{1}{4}\\}$\n",
    "\n",
    "Which of the following statement is correct? \n",
    "\n",
    "-I: $A_1$,$A_3$ are linearly separable\n",
    "\n",
    "-II: $A_2$,$A_3$ are linearly separable\n",
    "\n",
    "-III: $A_1$,$A_2$ are linearly separable\n",
    "\n",
    "-IV: None of the above"
   ]
  },
  {
   "cell_type": "code",
   "execution_count": 2,
   "id": "c5d0f038",
   "metadata": {
    "tags": [
     "hide-input"
    ]
   },
   "outputs": [
    {
     "data": {
      "application/vnd.jupyter.widget-view+json": {
       "model_id": "3238c2d846344b1782f98e1c058c3356",
       "version_major": 2,
       "version_minor": 0
      },
      "text/plain": [
       "RadioButtons(options=('I', 'II', 'III', 'IV'), value='I')"
      ]
     },
     "metadata": {},
     "output_type": "display_data"
    }
   ],
   "source": [
    "def on_change1(change):\n",
    "    if change['type'] == 'change' and change['name'] == 'value':\n",
    "        if change['new'] == 'I':\n",
    "            print( \"Your answer: %s     is correct\"% change['new'] )\n",
    "        else:\n",
    "            print( \"Your answer: %s     is wrong\"% change['new'] )\n",
    "\n",
    "w1 = widgets.RadioButtons(\n",
    "    options=['I', 'II', 'III','IV'],\n",
    "#    value='pineapple', # Defaults to 'pineapple'\n",
    "#    layout={'width': 'max-content'}, # If the items' names are long\n",
    "    description='',\n",
    "    disabled=False\n",
    ")\n",
    "w1.observe(on_change1)\n",
    "w1"
   ]
  },
  {
   "cell_type": "markdown",
   "id": "ff4b5ac7",
   "metadata": {},
   "source": [
    "```{dropdown} Show answer\n",
    "Answer: I\n",
    "```"
   ]
  },
  {
   "cell_type": "markdown",
   "id": "690ecb91",
   "metadata": {},
   "source": [
    "## Question 2\n",
    "Consider three sets $A_1,A_2,A_3\\subset R^d$, and three sentences listed below\n",
    "-A: $A_1,A_2,A_3$ are all-vs-one linearly separable.\n",
    "\n",
    "-B: $A_1,A_2,A_3$ are  linearly separable.\n",
    "\n",
    "-C: $A_1,A_2,A_3$ are pairwise linearly separable.\n",
    "\n",
    "Which of the following statements is correct? "
   ]
  },
  {
   "cell_type": "code",
   "execution_count": 3,
   "id": "76e92a47",
   "metadata": {
    "tags": [
     "hide-input"
    ]
   },
   "outputs": [
    {
     "data": {
      "application/vnd.jupyter.widget-view+json": {
       "model_id": "20a2af9cc7494a26b2dac656d7a1b467",
       "version_major": 2,
       "version_minor": 0
      },
      "text/plain": [
       "RadioButtons(options=('A implies B; C implies B', 'B implies A; C implies B', 'B implies A; B implies C'), val…"
      ]
     },
     "metadata": {},
     "output_type": "display_data"
    }
   ],
   "source": [
    "def on_change2(change):\n",
    "    if change['type'] == 'change' and change['name'] == 'value':\n",
    "        if change['new'] == 'A implies B; C implies B':\n",
    "            print( \"Your answer: %s     is correct\"% change['new'] )\n",
    "        else:\n",
    "            print( \"Your answer: %s     is wrong\"% change['new'] )\n",
    "\n",
    "w2 = widgets.RadioButtons(\n",
    "    options=['A implies B; C implies B', 'B implies A; C implies B', 'B implies A; B implies C'],\n",
    "#    value='pineapple', # Defaults to 'pineapple'\n",
    "#    layout={'width': 'max-content'}, # If the items' names are long\n",
    "    description='',\n",
    "    disabled=False\n",
    ")\n",
    "w2.observe(on_change1)\n",
    "w2"
   ]
  },
  {
   "cell_type": "markdown",
   "id": "7b6057a8",
   "metadata": {},
   "source": [
    "```{dropdown} Show answer\n",
    "Answer: A implies B; C implies B\n",
    "```"
   ]
  },
  {
   "cell_type": "markdown",
   "id": "0ea8d831",
   "metadata": {},
   "source": [
    "# Question 3 \n",
    "Let $\\boldsymbol a=\n",
    "\\left (\n",
    "\\begin{matrix}\n",
    "1\\\\\n",
    "1\\\\\n",
    "1\\\\\n",
    "\\vdots\\\\\n",
    "1\n",
    "\\end{matrix}\n",
    "\\right)\\in R^n, A=\\boldsymbol a\\boldsymbol a^T$. Compute the eigenvalues and corresponding eigenvectors of $A$.\n",
    "Write out solution"
   ]
  },
  {
   "cell_type": "markdown",
   "id": "e5d8b80f",
   "metadata": {},
   "source": [
    "```{dropdown} Show answer\n",
    "\n",
    "```"
   ]
  },
  {
   "cell_type": "markdown",
   "id": "137e452d",
   "metadata": {},
   "source": [
    "## Question 4\n",
    "Determine the global minimizer and the global minimum of the function\n",
    "$f(x,y)=e^{(x-2)^2+y^2+2x^2+2xy+2(y-4)^2+4y-16x} \\,\\, .$"
   ]
  },
  {
   "cell_type": "code",
   "execution_count": 4,
   "id": "1e339e67",
   "metadata": {
    "tags": [
     "hide-input"
    ]
   },
   "outputs": [
    {
     "data": {
      "application/vnd.jupyter.widget-view+json": {
       "model_id": "d32af27e06d44290a53b3f0d4fe7eb35",
       "version_major": 2,
       "version_minor": 0
      },
      "text/plain": [
       "RadioButtons(options=('Minimizer (3,1). Minimum 1', 'Minimizer (2,4). Minimum LaTeX: e^5', 'Minimizer (3,1). M…"
      ]
     },
     "metadata": {},
     "output_type": "display_data"
    }
   ],
   "source": [
    "def on_change4(change):\n",
    "    if change['type'] == 'change' and change['name'] == 'value':\n",
    "        if change['new'] == 'Minimizer (3,1). Minimum 1':\n",
    "            print( \"Your answer: %s     is correct\"% change['new'] )\n",
    "        else:\n",
    "            print( \"Your answer: %s     is wrong\"% change['new'] )\n",
    "\n",
    "w4 = widgets.RadioButtons(\n",
    "    options=['Minimizer (3,1). Minimum 1', 'Minimizer (2,4). Minimum LaTeX: e^5', 'Minimizer (3,1). Minimum LaTeX: e','Minimizer (0,0). Minimum 1'],\n",
    "#    value='pineapple', # Defaults to 'pineapple'\n",
    "#    layout={'width': 'max-content'}, # If the items' names are long\n",
    "    description='',\n",
    "    disabled=False\n",
    ")\n",
    "w4.observe(on_change4)\n",
    "w4"
   ]
  },
  {
   "cell_type": "markdown",
   "id": "34ce1094",
   "metadata": {},
   "source": [
    "```{dropdown} Show answer\n",
    "Minimizer (3,1). Minimum 1.\n",
    "\n",
    "```"
   ]
  },
  {
   "cell_type": "markdown",
   "id": "38b20257",
   "metadata": {},
   "source": [
    "## Question 5\n",
    "Let \n",
    "\n",
    "$$\n",
    "    \\boldsymbol x\\in R^3, A=\\left[\n",
    "\\begin{matrix}\n",
    "1&2&3\\\\\n",
    "0&4&1\\\\\n",
    "-1&-1&3\n",
    "\\end{matrix}\n",
    "\\right]\\in R^{3\\times 3}\n",
    "$$\n",
    "\n",
    "Compute the Hessian matrix of the multivariable function $f(\\boldsymbol x)=\\frac{1}{2} \\boldsymbol x^TA \\boldsymbol x.$\n",
    "\n",
    "-I: $\\frac{1}{2}(A+A^T)$\n",
    "\n",
    "-II: $A$\n",
    "\n",
    "-III: $A+A^T$\n",
    "\n",
    "-IV: $AA^T$"
   ]
  },
  {
   "cell_type": "code",
   "execution_count": 5,
   "id": "5f8ac0e0",
   "metadata": {
    "tags": [
     "hide-input"
    ]
   },
   "outputs": [
    {
     "data": {
      "application/vnd.jupyter.widget-view+json": {
       "model_id": "162db5bde46a480b9f024bfee380924e",
       "version_major": 2,
       "version_minor": 0
      },
      "text/plain": [
       "RadioButtons(options=('I', 'II', 'III', 'IV'), value='I')"
      ]
     },
     "metadata": {},
     "output_type": "display_data"
    }
   ],
   "source": [
    "def on_change5(change):\n",
    "    if change['type'] == 'change' and change['name'] == 'value':\n",
    "        if change['new'] == 'I':\n",
    "            print( \"Your answer: %s     is correct\"% change['new'] )\n",
    "        else:\n",
    "            print( \"Your answer: %s     is wrong\"% change['new'] )\n",
    "\n",
    "w4 = widgets.RadioButtons(\n",
    "    options=['I','II','III','IV'],\n",
    "#    value='pineapple', # Defaults to 'pineapple'\n",
    "#    layout={'width': 'max-content'}, # If the items' names are long\n",
    "    description='',\n",
    "    disabled=False\n",
    ")\n",
    "w4.observe(on_change4)\n",
    "w4"
   ]
  },
  {
   "cell_type": "markdown",
   "id": "7519bc95",
   "metadata": {},
   "source": [
    "```{dropdown} Show answer\n",
    "I\n",
    "```"
   ]
  },
  {
   "cell_type": "markdown",
   "id": "b17f76d2",
   "metadata": {},
   "source": [
    "## Question 6\n",
    "To define $A=\\left[\n",
    "\\begin{matrix}\n",
    "1&2&3\\\\\n",
    "4&5&6\\\\\n",
    "7&8&9\n",
    "\\end{matrix}\n",
    "\\right]$\n",
    "\n",
    "which of the following Python code is correct? \n",
    "\n",
    "-I: A = torch.tensor([[1,2,3],[4,5,6],[7,8,9]])\n",
    "\n",
    "-II: A = torch.tensor([1,2,3],[4,5,6],[7,8,9])\n",
    "\n",
    "-III: A = torch.tensor([1,2,3;4,5,6;7,8,9])\n",
    "\n",
    "-IV: A = torch.tensor((1,2,3),(4,5,6),(7,8,9))"
   ]
  },
  {
   "cell_type": "code",
   "execution_count": 6,
   "id": "c2cceaf8",
   "metadata": {
    "tags": [
     "hide-input"
    ]
   },
   "outputs": [
    {
     "data": {
      "application/vnd.jupyter.widget-view+json": {
       "model_id": "4b752b05a2c14fc39141a203a714a41c",
       "version_major": 2,
       "version_minor": 0
      },
      "text/plain": [
       "RadioButtons(options=('I', 'II', 'III', 'IV'), value='I')"
      ]
     },
     "metadata": {},
     "output_type": "display_data"
    }
   ],
   "source": [
    "def on_change6(change):\n",
    "    if change['type'] == 'change' and change['name'] == 'value':\n",
    "        if change['new'] == 'I':\n",
    "            print( \"Your answer: %s     is correct\"% change['new'] )\n",
    "        else:\n",
    "            print( \"Your answer: %s     is wrong\"% change['new'] )\n",
    "\n",
    "w6 = widgets.RadioButtons(\n",
    "    options=['I','II','III','IV'],\n",
    "#    value='pineapple', # Defaults to 'pineapple'\n",
    "#    layout={'width': 'max-content'}, # If the items' names are long\n",
    "    description='',\n",
    "    disabled=False\n",
    ")\n",
    "w6.observe(on_change6)\n",
    "w6"
   ]
  },
  {
   "cell_type": "markdown",
   "id": "2ca149aa",
   "metadata": {},
   "source": [
    "```{dropdown} Show answer\n",
    "I\n",
    "```"
   ]
  },
  {
   "cell_type": "code",
   "execution_count": null,
   "id": "16253cde",
   "metadata": {},
   "outputs": [],
   "source": []
  }
 ],
 "metadata": {
  "celltoolbar": "Tags",
  "kernelspec": {
   "display_name": "Python 3 (ipykernel)",
   "language": "python",
   "name": "python3"
  },
  "language_info": {
   "codemirror_mode": {
    "name": "ipython",
    "version": 3
   },
   "file_extension": ".py",
   "mimetype": "text/x-python",
   "name": "python",
   "nbconvert_exporter": "python",
   "pygments_lexer": "ipython3",
   "version": "3.9.6"
  },
  "widgets": {
   "application/vnd.jupyter.widget-state+json": {
    "state": {
     "122530a555af4e1091c91c2b56e42a1b": {
      "model_module": "@jupyter-widgets/controls",
      "model_module_version": "1.5.0",
      "model_name": "DescriptionStyleModel",
      "state": {
       "_model_module": "@jupyter-widgets/controls",
       "_model_module_version": "1.5.0",
       "_model_name": "DescriptionStyleModel",
       "_view_count": null,
       "_view_module": "@jupyter-widgets/base",
       "_view_module_version": "1.2.0",
       "_view_name": "StyleView",
       "description_width": ""
      }
     },
     "162db5bde46a480b9f024bfee380924e": {
      "model_module": "@jupyter-widgets/controls",
      "model_module_version": "1.5.0",
      "model_name": "RadioButtonsModel",
      "state": {
       "_dom_classes": [],
       "_model_module": "@jupyter-widgets/controls",
       "_model_module_version": "1.5.0",
       "_model_name": "RadioButtonsModel",
       "_options_labels": [
        "I",
        "II",
        "III",
        "IV"
       ],
       "_view_count": null,
       "_view_module": "@jupyter-widgets/controls",
       "_view_module_version": "1.5.0",
       "_view_name": "RadioButtonsView",
       "description": "",
       "description_tooltip": null,
       "disabled": false,
       "index": 0,
       "layout": "IPY_MODEL_dc017fbf046c429e8a02f3f3c2d4ef9c",
       "style": "IPY_MODEL_babd39fc326b437f9f0e78bbae58d4fd"
      }
     },
     "20a2af9cc7494a26b2dac656d7a1b467": {
      "model_module": "@jupyter-widgets/controls",
      "model_module_version": "1.5.0",
      "model_name": "RadioButtonsModel",
      "state": {
       "_dom_classes": [],
       "_model_module": "@jupyter-widgets/controls",
       "_model_module_version": "1.5.0",
       "_model_name": "RadioButtonsModel",
       "_options_labels": [
        "A implies B; C implies B",
        "B implies A; C implies B",
        "B implies A; B implies C"
       ],
       "_view_count": null,
       "_view_module": "@jupyter-widgets/controls",
       "_view_module_version": "1.5.0",
       "_view_name": "RadioButtonsView",
       "description": "",
       "description_tooltip": null,
       "disabled": false,
       "index": 0,
       "layout": "IPY_MODEL_528093039f7d4f6da6bf6ab31f1f6350",
       "style": "IPY_MODEL_231a59c1a8434f47a3dcde3ef8d6e283"
      }
     },
     "231a59c1a8434f47a3dcde3ef8d6e283": {
      "model_module": "@jupyter-widgets/controls",
      "model_module_version": "1.5.0",
      "model_name": "DescriptionStyleModel",
      "state": {
       "_model_module": "@jupyter-widgets/controls",
       "_model_module_version": "1.5.0",
       "_model_name": "DescriptionStyleModel",
       "_view_count": null,
       "_view_module": "@jupyter-widgets/base",
       "_view_module_version": "1.2.0",
       "_view_name": "StyleView",
       "description_width": ""
      }
     },
     "3238c2d846344b1782f98e1c058c3356": {
      "model_module": "@jupyter-widgets/controls",
      "model_module_version": "1.5.0",
      "model_name": "RadioButtonsModel",
      "state": {
       "_dom_classes": [],
       "_model_module": "@jupyter-widgets/controls",
       "_model_module_version": "1.5.0",
       "_model_name": "RadioButtonsModel",
       "_options_labels": [
        "I",
        "II",
        "III",
        "IV"
       ],
       "_view_count": null,
       "_view_module": "@jupyter-widgets/controls",
       "_view_module_version": "1.5.0",
       "_view_name": "RadioButtonsView",
       "description": "",
       "description_tooltip": null,
       "disabled": false,
       "index": 0,
       "layout": "IPY_MODEL_8eec83c5956d4a1cb6cdbc266b2c19ef",
       "style": "IPY_MODEL_7aead6b94e96438285925188aa08c2b3"
      }
     },
     "4b752b05a2c14fc39141a203a714a41c": {
      "model_module": "@jupyter-widgets/controls",
      "model_module_version": "1.5.0",
      "model_name": "RadioButtonsModel",
      "state": {
       "_dom_classes": [],
       "_model_module": "@jupyter-widgets/controls",
       "_model_module_version": "1.5.0",
       "_model_name": "RadioButtonsModel",
       "_options_labels": [
        "I",
        "II",
        "III",
        "IV"
       ],
       "_view_count": null,
       "_view_module": "@jupyter-widgets/controls",
       "_view_module_version": "1.5.0",
       "_view_name": "RadioButtonsView",
       "description": "",
       "description_tooltip": null,
       "disabled": false,
       "index": 0,
       "layout": "IPY_MODEL_6a118c6eb1004b279f43e7b9d0bbfddb",
       "style": "IPY_MODEL_122530a555af4e1091c91c2b56e42a1b"
      }
     },
     "528093039f7d4f6da6bf6ab31f1f6350": {
      "model_module": "@jupyter-widgets/base",
      "model_module_version": "1.2.0",
      "model_name": "LayoutModel",
      "state": {
       "_model_module": "@jupyter-widgets/base",
       "_model_module_version": "1.2.0",
       "_model_name": "LayoutModel",
       "_view_count": null,
       "_view_module": "@jupyter-widgets/base",
       "_view_module_version": "1.2.0",
       "_view_name": "LayoutView",
       "align_content": null,
       "align_items": null,
       "align_self": null,
       "border": null,
       "bottom": null,
       "display": null,
       "flex": null,
       "flex_flow": null,
       "grid_area": null,
       "grid_auto_columns": null,
       "grid_auto_flow": null,
       "grid_auto_rows": null,
       "grid_column": null,
       "grid_gap": null,
       "grid_row": null,
       "grid_template_areas": null,
       "grid_template_columns": null,
       "grid_template_rows": null,
       "height": null,
       "justify_content": null,
       "justify_items": null,
       "left": null,
       "margin": null,
       "max_height": null,
       "max_width": null,
       "min_height": null,
       "min_width": null,
       "object_fit": null,
       "object_position": null,
       "order": null,
       "overflow": null,
       "overflow_x": null,
       "overflow_y": null,
       "padding": null,
       "right": null,
       "top": null,
       "visibility": null,
       "width": null
      }
     },
     "6a118c6eb1004b279f43e7b9d0bbfddb": {
      "model_module": "@jupyter-widgets/base",
      "model_module_version": "1.2.0",
      "model_name": "LayoutModel",
      "state": {
       "_model_module": "@jupyter-widgets/base",
       "_model_module_version": "1.2.0",
       "_model_name": "LayoutModel",
       "_view_count": null,
       "_view_module": "@jupyter-widgets/base",
       "_view_module_version": "1.2.0",
       "_view_name": "LayoutView",
       "align_content": null,
       "align_items": null,
       "align_self": null,
       "border": null,
       "bottom": null,
       "display": null,
       "flex": null,
       "flex_flow": null,
       "grid_area": null,
       "grid_auto_columns": null,
       "grid_auto_flow": null,
       "grid_auto_rows": null,
       "grid_column": null,
       "grid_gap": null,
       "grid_row": null,
       "grid_template_areas": null,
       "grid_template_columns": null,
       "grid_template_rows": null,
       "height": null,
       "justify_content": null,
       "justify_items": null,
       "left": null,
       "margin": null,
       "max_height": null,
       "max_width": null,
       "min_height": null,
       "min_width": null,
       "object_fit": null,
       "object_position": null,
       "order": null,
       "overflow": null,
       "overflow_x": null,
       "overflow_y": null,
       "padding": null,
       "right": null,
       "top": null,
       "visibility": null,
       "width": null
      }
     },
     "7a9bc9a514d948f7af9c96b0fa0758a8": {
      "model_module": "@jupyter-widgets/controls",
      "model_module_version": "1.5.0",
      "model_name": "DescriptionStyleModel",
      "state": {
       "_model_module": "@jupyter-widgets/controls",
       "_model_module_version": "1.5.0",
       "_model_name": "DescriptionStyleModel",
       "_view_count": null,
       "_view_module": "@jupyter-widgets/base",
       "_view_module_version": "1.2.0",
       "_view_name": "StyleView",
       "description_width": ""
      }
     },
     "7aead6b94e96438285925188aa08c2b3": {
      "model_module": "@jupyter-widgets/controls",
      "model_module_version": "1.5.0",
      "model_name": "DescriptionStyleModel",
      "state": {
       "_model_module": "@jupyter-widgets/controls",
       "_model_module_version": "1.5.0",
       "_model_name": "DescriptionStyleModel",
       "_view_count": null,
       "_view_module": "@jupyter-widgets/base",
       "_view_module_version": "1.2.0",
       "_view_name": "StyleView",
       "description_width": ""
      }
     },
     "8eec83c5956d4a1cb6cdbc266b2c19ef": {
      "model_module": "@jupyter-widgets/base",
      "model_module_version": "1.2.0",
      "model_name": "LayoutModel",
      "state": {
       "_model_module": "@jupyter-widgets/base",
       "_model_module_version": "1.2.0",
       "_model_name": "LayoutModel",
       "_view_count": null,
       "_view_module": "@jupyter-widgets/base",
       "_view_module_version": "1.2.0",
       "_view_name": "LayoutView",
       "align_content": null,
       "align_items": null,
       "align_self": null,
       "border": null,
       "bottom": null,
       "display": null,
       "flex": null,
       "flex_flow": null,
       "grid_area": null,
       "grid_auto_columns": null,
       "grid_auto_flow": null,
       "grid_auto_rows": null,
       "grid_column": null,
       "grid_gap": null,
       "grid_row": null,
       "grid_template_areas": null,
       "grid_template_columns": null,
       "grid_template_rows": null,
       "height": null,
       "justify_content": null,
       "justify_items": null,
       "left": null,
       "margin": null,
       "max_height": null,
       "max_width": null,
       "min_height": null,
       "min_width": null,
       "object_fit": null,
       "object_position": null,
       "order": null,
       "overflow": null,
       "overflow_x": null,
       "overflow_y": null,
       "padding": null,
       "right": null,
       "top": null,
       "visibility": null,
       "width": null
      }
     },
     "906624fec1444b46ba577ec049cca19d": {
      "model_module": "@jupyter-widgets/base",
      "model_module_version": "1.2.0",
      "model_name": "LayoutModel",
      "state": {
       "_model_module": "@jupyter-widgets/base",
       "_model_module_version": "1.2.0",
       "_model_name": "LayoutModel",
       "_view_count": null,
       "_view_module": "@jupyter-widgets/base",
       "_view_module_version": "1.2.0",
       "_view_name": "LayoutView",
       "align_content": null,
       "align_items": null,
       "align_self": null,
       "border": null,
       "bottom": null,
       "display": null,
       "flex": null,
       "flex_flow": null,
       "grid_area": null,
       "grid_auto_columns": null,
       "grid_auto_flow": null,
       "grid_auto_rows": null,
       "grid_column": null,
       "grid_gap": null,
       "grid_row": null,
       "grid_template_areas": null,
       "grid_template_columns": null,
       "grid_template_rows": null,
       "height": null,
       "justify_content": null,
       "justify_items": null,
       "left": null,
       "margin": null,
       "max_height": null,
       "max_width": null,
       "min_height": null,
       "min_width": null,
       "object_fit": null,
       "object_position": null,
       "order": null,
       "overflow": null,
       "overflow_x": null,
       "overflow_y": null,
       "padding": null,
       "right": null,
       "top": null,
       "visibility": null,
       "width": null
      }
     },
     "babd39fc326b437f9f0e78bbae58d4fd": {
      "model_module": "@jupyter-widgets/controls",
      "model_module_version": "1.5.0",
      "model_name": "DescriptionStyleModel",
      "state": {
       "_model_module": "@jupyter-widgets/controls",
       "_model_module_version": "1.5.0",
       "_model_name": "DescriptionStyleModel",
       "_view_count": null,
       "_view_module": "@jupyter-widgets/base",
       "_view_module_version": "1.2.0",
       "_view_name": "StyleView",
       "description_width": ""
      }
     },
     "d32af27e06d44290a53b3f0d4fe7eb35": {
      "model_module": "@jupyter-widgets/controls",
      "model_module_version": "1.5.0",
      "model_name": "RadioButtonsModel",
      "state": {
       "_dom_classes": [],
       "_model_module": "@jupyter-widgets/controls",
       "_model_module_version": "1.5.0",
       "_model_name": "RadioButtonsModel",
       "_options_labels": [
        "Minimizer (3,1). Minimum 1",
        "Minimizer (2,4). Minimum LaTeX: e^5",
        "Minimizer (3,1). Minimum LaTeX: e",
        "Minimizer (0,0). Minimum 1"
       ],
       "_view_count": null,
       "_view_module": "@jupyter-widgets/controls",
       "_view_module_version": "1.5.0",
       "_view_name": "RadioButtonsView",
       "description": "",
       "description_tooltip": null,
       "disabled": false,
       "index": 0,
       "layout": "IPY_MODEL_906624fec1444b46ba577ec049cca19d",
       "style": "IPY_MODEL_7a9bc9a514d948f7af9c96b0fa0758a8"
      }
     },
     "dc017fbf046c429e8a02f3f3c2d4ef9c": {
      "model_module": "@jupyter-widgets/base",
      "model_module_version": "1.2.0",
      "model_name": "LayoutModel",
      "state": {
       "_model_module": "@jupyter-widgets/base",
       "_model_module_version": "1.2.0",
       "_model_name": "LayoutModel",
       "_view_count": null,
       "_view_module": "@jupyter-widgets/base",
       "_view_module_version": "1.2.0",
       "_view_name": "LayoutView",
       "align_content": null,
       "align_items": null,
       "align_self": null,
       "border": null,
       "bottom": null,
       "display": null,
       "flex": null,
       "flex_flow": null,
       "grid_area": null,
       "grid_auto_columns": null,
       "grid_auto_flow": null,
       "grid_auto_rows": null,
       "grid_column": null,
       "grid_gap": null,
       "grid_row": null,
       "grid_template_areas": null,
       "grid_template_columns": null,
       "grid_template_rows": null,
       "height": null,
       "justify_content": null,
       "justify_items": null,
       "left": null,
       "margin": null,
       "max_height": null,
       "max_width": null,
       "min_height": null,
       "min_width": null,
       "object_fit": null,
       "object_position": null,
       "order": null,
       "overflow": null,
       "overflow_x": null,
       "overflow_y": null,
       "padding": null,
       "right": null,
       "top": null,
       "visibility": null,
       "width": null
      }
     }
    },
    "version_major": 2,
    "version_minor": 0
   }
  }
 },
 "nbformat": 4,
 "nbformat_minor": 5
}