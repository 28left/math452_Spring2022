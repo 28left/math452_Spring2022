{
 "cells": [
  {
   "cell_type": "markdown",
   "id": "01c1f4be",
   "metadata": {},
   "source": [
    "# Homework 4"
   ]
  },
  {
   "cell_type": "markdown",
   "id": "9d0eab3e",
   "metadata": {},
   "source": [
    "## Download the Module 4 homework here: [Homework4](https://sites.psu.edu/math452/files/2022/02/HWWeek4.pdf)"
   ]
  },
  {
   "cell_type": "code",
   "execution_count": null,
   "id": "dd692528",
   "metadata": {},
   "outputs": [],
   "source": []
  }
 ],
 "metadata": {
  "kernelspec": {
   "display_name": "Python 3",
   "language": "python",
   "name": "python3"
  },
  "language_info": {
   "codemirror_mode": {
    "name": "ipython",
    "version": 3
   },
   "file_extension": ".py",
   "mimetype": "text/x-python",
   "name": "python",
   "nbconvert_exporter": "python",
   "pygments_lexer": "ipython3",
   "version": "3.9.9"
  }
 },
 "nbformat": 4,
 "nbformat_minor": 5
}