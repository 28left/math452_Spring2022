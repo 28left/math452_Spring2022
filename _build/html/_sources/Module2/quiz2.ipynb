{
 "cells": [
  {
   "cell_type": "markdown",
   "id": "51389742",
   "metadata": {},
   "source": [
    "# Quiz 2\n",
    "For Penn State student, access quiz [here](https://psu.instructure.com/courses/2177217/quizzes/4421196)"
   ]
  }
 ],
 "metadata": {
  "kernelspec": {
   "display_name": "Python 3 (ipykernel)",
   "language": "python",
   "name": "python3"
  },
  "language_info": {
   "codemirror_mode": {
    "name": "ipython",
    "version": 3
   },
   "file_extension": ".py",
   "mimetype": "text/x-python",
   "name": "python",
   "nbconvert_exporter": "python",
   "pygments_lexer": "ipython3",
   "version": "3.9.6"
  }
 },
 "nbformat": 4,
 "nbformat_minor": 5
}
