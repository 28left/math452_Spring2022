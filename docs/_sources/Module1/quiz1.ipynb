{
 "cells": [
  {
   "cell_type": "markdown",
   "id": "74cfe843",
   "metadata": {},
   "source": [
    "# Quiz 1"
   ]
  },
  {
   "cell_type": "markdown",
   "id": "e82f8220",
   "metadata": {},
   "source": [
    "https://psu.instructure.com/courses/2177217/quizzes/4421199"
   ]
  },
  {
   "cell_type": "code",
   "execution_count": null,
   "id": "c5d0f038",
   "metadata": {},
   "outputs": [],
   "source": []
  }
 ],
 "metadata": {
  "kernelspec": {
   "display_name": "Python 3",
   "language": "python",
   "name": "python3"
  },
  "language_info": {
   "codemirror_mode": {
    "name": "ipython",
    "version": 3
   },
   "file_extension": ".py",
   "mimetype": "text/x-python",
   "name": "python",
   "nbconvert_exporter": "python",
   "pygments_lexer": "ipython3",
   "version": "3.8.8"
  }
 },
 "nbformat": 4,
 "nbformat_minor": 5
}
