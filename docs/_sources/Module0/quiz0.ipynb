{
 "cells": [
  {
   "cell_type": "markdown",
   "metadata": {},
   "source": [
    "# Preliminary Quiz"
   ]
  },
  {
   "cell_type": "code",
   "execution_count": 2,
   "metadata": {
    "tags": [
     "hide-input"
    ]
   },
   "outputs": [],
   "source": [
    "import ipywidgets as widgets"
   ]
  },
  {
   "cell_type": "markdown",
   "metadata": {},
   "source": [
    "## Queation 1\n",
    "![image](./Quiz1_Question1.jpg)\n",
    "\n",
    "Consider the feasible region given by the following inequalities. whose boundary lines are graphed above.\n",
    "\n",
    "$$\n",
    "    x+2y \\geq 6 \\\\\n",
    "    x+y \\geq 4 \\\\\n",
    "    x \\geq 0 \\\\\n",
    "    y \\geq 0 \\\\\n",
    "$$\n",
    "\n",
    "Which ONE of the following labels best indicate the feasible region described above?\n"
   ]
  },
  {
   "cell_type": "code",
   "execution_count": 49,
   "metadata": {
    "tags": [
     "hide-input",
     "interactive"
    ]
   },
   "outputs": [],
   "source": [
    "def on_change(change):\n",
    "    if change['type'] == 'change' and change['name'] == 'value':\n",
    "        if change['new'] == 'I':\n",
    "            print( \"Your answer: %s     is correct\"% change['new'] )\n",
    "        else:\n",
    "            print( \"Your answer: %s     is wrong\"% change['new'] )\n",
    "\n",
    "w0 = widgets.RadioButtons(\n",
    "    options=['I', 'II', 'III','IV','None'],\n",
    "#    value='pineapple', # Defaults to 'pineapple'\n",
    "#    layout={'width': 'max-content'}, # If the items' names are long\n",
    "    description='',\n",
    "    disabled=False\n",
    ")\n",
    "w0.observe(on_change)\n"
   ]
  },
  {
   "cell_type": "code",
   "execution_count": 50,
   "metadata": {
    "tags": [
     "hide-input"
    ]
   },
   "outputs": [
    {
     "data": {
      "application/vnd.jupyter.widget-view+json": {
       "model_id": "f24fffe66cde471f8817a02a2256c430",
       "version_major": 2,
       "version_minor": 0
      },
      "text/plain": [
       "RadioButtons(options=('I', 'II', 'III', 'IV', 'None'), value='I')"
      ]
     },
     "metadata": {},
     "output_type": "display_data"
    }
   ],
   "source": [
    "w0"
   ]
  },
  {
   "cell_type": "markdown",
   "metadata": {},
   "source": [
    "```{dropdown} Show answer\n",
    "Answer: III\n",
    "```"
   ]
  },
  {
   "cell_type": "markdown",
   "metadata": {},
   "source": [
    "## Question 2\n",
    "Let \n",
    "\n",
    "$$\n",
    "    f(x) = x_1^2+x_3^2+x_3^4, p =(\\frac{1}{\\sqrt{3}},\\frac{1}{\\sqrt{3}},\\frac{1}{\\sqrt{3}}) , g(t)=f(x+tp)\n",
    "$$\n",
    "\n",
    "where $t$ is a scalar variable. Find $g^{'}(0)$ at $x=(1,1,1)$"
   ]
  },
  {
   "cell_type": "code",
   "execution_count": 16,
   "metadata": {
    "tags": [
     "hide-input"
    ]
   },
   "outputs": [
    {
     "data": {
      "application/vnd.jupyter.widget-view+json": {
       "model_id": "a06167c6c7734163898efafaa7670729",
       "version_major": 2,
       "version_minor": 0
      },
      "text/plain": [
       "Dropdown(description='Number:', options=('3', '$\\\\sqrt{3}$', '1', '0', '$3\\\\sqrt{3}$'), value='3')"
      ]
     },
     "metadata": {},
     "output_type": "display_data"
    }
   ],
   "source": [
    "widgets.Dropdown(\n",
    "    options=['3', '$\\sqrt{3}$','1','0','$3\\sqrt{3}$'],\n",
    "    value='3',\n",
    "    description='Number:',\n",
    "    disabled=False,\n",
    ")"
   ]
  },
  {
   "cell_type": "markdown",
   "metadata": {},
   "source": [
    "```{dropdown} Show answer\n",
    "Answer: \n",
    "\n",
    "$$\n",
    "    3\\sqrt{3}\n",
    "$$\n",
    "\n",
    "```"
   ]
  },
  {
   "cell_type": "markdown",
   "metadata": {},
   "source": [
    "## Question 3\n",
    "Determine the global maximum and global minimum of the function\n",
    "\n",
    "$$\n",
    "    f(x) = x^3-3x^2+5\n",
    "$$\n",
    " on the interval $[-2,3]$"
   ]
  },
  {
   "cell_type": "code",
   "execution_count": 11,
   "metadata": {
    "tags": [
     "hide-input"
    ]
   },
   "outputs": [
    {
     "data": {
      "application/vnd.jupyter.widget-view+json": {
       "model_id": "154b1b84cdc746eeaef12b915f867e60",
       "version_major": 2,
       "version_minor": 0
      },
      "text/plain": [
       "IntText(value=0, description='Global minimum:')"
      ]
     },
     "metadata": {},
     "output_type": "display_data"
    }
   ],
   "source": [
    "widgets.IntText(\n",
    "    value=0,\n",
    "    description='Global Max:',\n",
    "    disabled=False\n",
    ")\n"
   ]
  },
  {
   "cell_type": "code",
   "execution_count": 12,
   "metadata": {
    "tags": [
     "hide-input"
    ]
   },
   "outputs": [
    {
     "data": {
      "application/vnd.jupyter.widget-view+json": {
       "model_id": "b3f37728132f4b06a0b8f53cdc26d2cc",
       "version_major": 2,
       "version_minor": 0
      },
      "text/plain": [
       "IntText(value=0, description='Global Min:')"
      ]
     },
     "metadata": {},
     "output_type": "display_data"
    }
   ],
   "source": [
    "widgets.IntText(\n",
    "    value=0,\n",
    "    description='Global Min:',\n",
    "    disabled=False\n",
    ")"
   ]
  },
  {
   "cell_type": "markdown",
   "metadata": {},
   "source": [
    "```{dropdown} Show answer\n",
    "Answer: \n",
    "\n",
    "\n",
    "    Global maximum is 5; global minimum is -15.\n",
    "\n",
    "```"
   ]
  },
  {
   "cell_type": "markdown",
   "metadata": {},
   "source": [
    "## Question 4\n",
    "Find the global minimizer and the global minimum value of the function \n",
    "\n",
    "$$\n",
    "    f(x,y)=(x-2)^2+y^2+2(y-4)^2+2x^2+2xy+4y-16x+1.\n",
    "$$\n",
    "\n",
    "That is, determine the point $(x_0,y_0)$  which yields the global minimum value,  "
   ]
  },
  {
   "cell_type": "code",
   "execution_count": 3,
   "metadata": {
    "tags": [
     "hide-input"
    ]
   },
   "outputs": [
    {
     "data": {
      "application/vnd.jupyter.widget-view+json": {
       "model_id": "c0570e1dc07b4b8dbf5ab8925e32f34d",
       "version_major": 2,
       "version_minor": 0
      },
      "text/plain": [
       "IntText(value=0, description='x_0 is :')"
      ]
     },
     "metadata": {},
     "output_type": "display_data"
    }
   ],
   "source": [
    "widgets.IntText(\n",
    "    value=0,\n",
    "    description='x_0 is :',\n",
    "    disabled=False\n",
    ")"
   ]
  },
  {
   "cell_type": "code",
   "execution_count": 4,
   "metadata": {
    "tags": [
     "hide-input"
    ]
   },
   "outputs": [
    {
     "data": {
      "application/vnd.jupyter.widget-view+json": {
       "model_id": "4c8b2135aee24e0db511ffaf990718de",
       "version_major": 2,
       "version_minor": 0
      },
      "text/plain": [
       "IntText(value=0, description='y_0 is :')"
      ]
     },
     "metadata": {},
     "output_type": "display_data"
    }
   ],
   "source": [
    "widgets.IntText(\n",
    "    value=0,\n",
    "    description='y_0 is :',\n",
    "    disabled=False\n",
    ")"
   ]
  },
  {
   "cell_type": "code",
   "execution_count": 5,
   "metadata": {
    "tags": [
     "hide-input"
    ]
   },
   "outputs": [
    {
     "data": {
      "application/vnd.jupyter.widget-view+json": {
       "model_id": "2a375c3229f74a3a91cc7f800267fb6f",
       "version_major": 2,
       "version_minor": 0
      },
      "text/plain": [
       "IntText(value=0, description='f_{min} is:')"
      ]
     },
     "metadata": {},
     "output_type": "display_data"
    }
   ],
   "source": [
    "widgets.IntText(\n",
    "    value=0,\n",
    "    description='f_{min} is:',\n",
    "    disabled=False\n",
    ")"
   ]
  },
  {
   "cell_type": "markdown",
   "metadata": {},
   "source": [
    "```{dropdown} Show answer\n",
    "Answer: \n",
    "\n",
    "\n",
    "```"
   ]
  },
  {
   "cell_type": "markdown",
   "metadata": {},
   "source": [
    "## Problem 5\n",
    "Which of the following matrices has an inverse?\n",
    "\n",
    "- A: \n",
    "\n",
    "$$\n",
    "    \\begin{bmatrix}\n",
    "3&4 \\\\\n",
    "6&8 \\\\\n",
    "\\end{bmatrix}\n",
    "$$\n",
    "\n",
    "- B: \n",
    "\n",
    "$$\n",
    "    \\begin{bmatrix}\n",
    "0&-4 \\\\\n",
    "0&10 \\\\\n",
    "\\end{bmatrix}\n",
    "$$\n",
    "\n",
    "- C: \n",
    "\n",
    "$$\n",
    "    \\begin{bmatrix}\n",
    "4&-10 \\\\\n",
    "2&5 \\\\\n",
    "\\end{bmatrix}\n",
    "$$\n",
    "\n",
    "- D: \n",
    "\n",
    "$$\n",
    "    \\begin{bmatrix}\n",
    "1&4 \\\\\n",
    "0&3 \\\\\n",
    "\\end{bmatrix}\n",
    "$$\n",
    "\n",
    "- E: \n",
    "\n",
    "$$\n",
    "    \\begin{bmatrix}\n",
    "0&0 \\\\\n",
    "5&7 \\\\\n",
    "\\end{bmatrix}\n",
    "$$\n"
   ]
  },
  {
   "cell_type": "code",
   "execution_count": 8,
   "metadata": {
    "tags": [
     "hide-input"
    ]
   },
   "outputs": [
    {
     "data": {
      "application/vnd.jupyter.widget-view+json": {
       "model_id": "4a3acd4138944904ac705ed9b5e15879",
       "version_major": 2,
       "version_minor": 0
      },
      "text/plain": [
       "RadioButtons(options=('A', 'B', 'C', 'D', 'E'), value='A')"
      ]
     },
     "metadata": {},
     "output_type": "display_data"
    },
    {
     "name": "stdout",
     "output_type": "stream",
     "text": [
      "Your answer: D     is correct\n",
      "Your answer: E     is wrong\n",
      "Your answer: D     is correct\n"
     ]
    }
   ],
   "source": [
    "def on_change5(change):\n",
    "    if change['type'] == 'change' and change['name'] == 'value':\n",
    "        if change['new'] == 'D':\n",
    "            print( \"Your answer: %s     is correct\"% change['new'] )\n",
    "        else:\n",
    "            print( \"Your answer: %s     is wrong\"% change['new'] )\n",
    "\n",
    "w5 = widgets.RadioButtons(\n",
    "    options=['A', 'B', 'C','D','E'],\n",
    "#    value='pineapple', # Defaults to 'pineapple'\n",
    "#    layout={'width': 'max-content'}, # If the items' names are long\n",
    "    description='',\n",
    "    disabled=False\n",
    ")\n",
    "w5.observe(on_change5)\n",
    "w5\n"
   ]
  },
  {
   "cell_type": "markdown",
   "metadata": {},
   "source": [
    "```{dropdown} Show answer\n",
    "Answer: \n",
    "D\n",
    "```"
   ]
  },
  {
   "cell_type": "markdown",
   "metadata": {},
   "source": [
    "## Question 6\n",
    "Let \n",
    "\n",
    "$$\n",
    "    A=\\left(\n",
    "\\begin{matrix}\n",
    "1&-1&0\\\\\n",
    "-1&2&-1\\\\\n",
    "0&-1&1\n",
    "\\end{matrix}\n",
    "\\right)\n",
    "$$\n",
    "\n",
    "Compute the eigenvalues of $A$\n",
    "\n"
   ]
  },
  {
   "cell_type": "code",
   "execution_count": 10,
   "metadata": {
    "tags": [
     "hide-input"
    ]
   },
   "outputs": [
    {
     "data": {
      "application/vnd.jupyter.widget-view+json": {
       "model_id": "e4e4878d15d746f2b2303f39746626df",
       "version_major": 2,
       "version_minor": 0
      },
      "text/plain": [
       "RadioButtons(options=('1,0,3', '1,-1,0', '1,-1', '1,2,1', '-1,2,-1'), value='1,0,3')"
      ]
     },
     "metadata": {},
     "output_type": "display_data"
    },
    {
     "name": "stdout",
     "output_type": "stream",
     "text": [
      "Your answer: 1,-1,0     is wrong\n",
      "Your answer: 1,-1     is wrong\n",
      "Your answer: 1,2,1     is wrong\n",
      "Your answer: 1,0,3     is correct\n"
     ]
    }
   ],
   "source": [
    "def on_change6(change):\n",
    "    if change['type'] == 'change' and change['name'] == 'value':\n",
    "        if change['new'] == '1,0,3':\n",
    "            print( \"Your answer: %s     is correct\"% change['new'] )\n",
    "        else:\n",
    "            print( \"Your answer: %s     is wrong\"% change['new'] )\n",
    "\n",
    "w6 = widgets.RadioButtons(\n",
    "    options=['1,0,3', '1,-1,0', '1,-1','1,2,1','-1,2,-1'],\n",
    "#    value='pineapple', # Defaults to 'pineapple'\n",
    "#    layout={'width': 'max-content'}, # If the items' names are long\n",
    "    description='',\n",
    "    disabled=False\n",
    ")\n",
    "w6.observe(on_change6)\n",
    "w6"
   ]
  },
  {
   "cell_type": "markdown",
   "metadata": {},
   "source": [
    "```{dropdown} Show answer\n",
    "Answer: \n",
    "\n",
    "1,0,3\n",
    "```"
   ]
  },
  {
   "cell_type": "markdown",
   "metadata": {},
   "source": [
    "## Question 7\n",
    "Let \n",
    "\n",
    "$$\n",
    "    a=\\left(\n",
    "\\begin{matrix}\n",
    "1\\\\\n",
    "1\\\\\n",
    "1\\\\\n",
    "1\n",
    "\\end{matrix}\n",
    "\\right)\\in R^4\n",
    "$$\n",
    "\n",
    "and $A=aa^T$\n",
    "\n",
    "Find the eigenvalues and corresponding eigenvectors of $A$\n",
    "\n",
    "Write out solution, take a picture or scan it into a file (we prefer a pdf file) and upload from your computer."
   ]
  },
  {
   "cell_type": "markdown",
   "metadata": {},
   "source": [
    "```{dropdown} Show answer\n",
    "\n",
    "```"
   ]
  },
  {
   "cell_type": "code",
   "execution_count": null,
   "metadata": {},
   "outputs": [],
   "source": []
  }
 ],
 "metadata": {
  "celltoolbar": "Tags",
  "kernelspec": {
   "display_name": "Python 3",
   "language": "python",
   "name": "python3"
  },
  "language_info": {
   "codemirror_mode": {
    "name": "ipython",
    "version": 3
   },
   "file_extension": ".py",
   "mimetype": "text/x-python",
   "name": "python",
   "nbconvert_exporter": "python",
   "pygments_lexer": "ipython3",
   "version": "3.7.1"
  }
 },
 "nbformat": 4,
 "nbformat_minor": 5
}
