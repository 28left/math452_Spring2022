{
 "cells": [
  {
   "cell_type": "markdown",
   "id": "21ca4a26",
   "metadata": {},
   "source": [
    "# Preliminary Quiz"
   ]
  },
  {
   "cell_type": "code",
   "execution_count": null,
   "id": "b5da0e3b",
   "metadata": {
    "tags": [
     "hide-input"
    ]
   },
   "outputs": [],
   "source": [
    "import ipywidgets as widgets"
   ]
  },
  {
   "cell_type": "markdown",
   "id": "485dc876",
   "metadata": {},
   "source": [
    "## Queation 1\n",
    "![image](./Quiz1_Question1.jpg)\n",
    "Consider the feasible region given by the following inequalities. whose boundary lines are graphed above.\n",
    "\n",
    "$$\n",
    "    x+2y \\geq 6 \\\\\n",
    "    x+y \\geq 4 \\\\\n",
    "    x \\geq 0 \\\\\n",
    "    y \\geq 0 \\\\\n",
    "$$\n",
    "\n",
    "Which ONE of the following labels best indicate the feasible region described above?\n"
   ]
  },
  {
   "cell_type": "code",
   "execution_count": 8,
   "id": "894f9186",
   "metadata": {
    "tags": [
     "hide-input"
    ]
   },
   "outputs": [
    {
     "data": {
      "application/vnd.jupyter.widget-view+json": {
       "model_id": "5e2188c0f4bd4e47b5100b7e411c170b",
       "version_major": 2,
       "version_minor": 0
      },
      "text/plain": [
       "RadioButtons(options=('I', 'II', 'III', 'IV', 'None'), value='I')"
      ]
     },
     "metadata": {},
     "output_type": "display_data"
    }
   ],
   "source": [
    "widgets.RadioButtons(\n",
    "    options=['I', 'II', 'III','IV','None'],\n",
    "#    value='pineapple', # Defaults to 'pineapple'\n",
    "#    layout={'width': 'max-content'}, # If the items' names are long\n",
    "    description='',\n",
    "    disabled=False\n",
    ")"
   ]
  },
  {
   "cell_type": "markdown",
   "id": "30b6bf37",
   "metadata": {},
   "source": [
    "## Question 2\n",
    "Let \n",
    "\n",
    "$$\n",
    "    f(x) = x_1^2+x_3^2+x_3^4, p =(\\frac{1}{\\sqrt{3}},\\frac{1}{\\sqrt{3}},\\frac{1}{\\sqrt{3}}) , g(t)=f(x+tp)\n",
    "$$\n",
    "\n",
    "where $t$ is a scalar variable. Find $g^{'}(0)$ at $x=(1,1,1)$"
   ]
  },
  {
   "cell_type": "code",
   "execution_count": 16,
   "id": "25c3c1b5",
   "metadata": {
    "tags": [
     "hide-input"
    ]
   },
   "outputs": [
    {
     "data": {
      "application/vnd.jupyter.widget-view+json": {
       "model_id": "a06167c6c7734163898efafaa7670729",
       "version_major": 2,
       "version_minor": 0
      },
      "text/plain": [
       "Dropdown(description='Number:', options=('3', '$\\\\sqrt{3}$', '1', '0', '$3\\\\sqrt{3}$'), value='3')"
      ]
     },
     "metadata": {},
     "output_type": "display_data"
    }
   ],
   "source": [
    "widgets.Dropdown(\n",
    "    options=['3', '$\\sqrt{3}$','1','0','$3\\sqrt{3}$'],\n",
    "    value='3',\n",
    "    description='Number:',\n",
    "    disabled=False,\n",
    ")"
   ]
  },
  {
   "cell_type": "markdown",
   "id": "1ce5e6c4",
   "metadata": {},
   "source": [
    "## Question 3\n",
    "Determine the global maximum and global minimum of the function\n",
    "\n",
    "$$\n",
    "    f(x) = x^3-3x^2+5\n",
    "$$\n",
    " on the interval $[-2,3]$"
   ]
  },
  {
   "cell_type": "code",
   "execution_count": 11,
   "id": "b5a51841",
   "metadata": {
    "tags": [
     "hide-input"
    ]
   },
   "outputs": [
    {
     "data": {
      "application/vnd.jupyter.widget-view+json": {
       "model_id": "154b1b84cdc746eeaef12b915f867e60",
       "version_major": 2,
       "version_minor": 0
      },
      "text/plain": [
       "IntText(value=0, description='Global minimum:')"
      ]
     },
     "metadata": {},
     "output_type": "display_data"
    }
   ],
   "source": [
    "widgets.IntText(\n",
    "    value=0,\n",
    "    description='Global Max:',\n",
    "    disabled=False\n",
    ")\n"
   ]
  },
  {
   "cell_type": "code",
   "execution_count": 12,
   "id": "173aaa11",
   "metadata": {
    "tags": [
     "hide-input"
    ]
   },
   "outputs": [
    {
     "data": {
      "application/vnd.jupyter.widget-view+json": {
       "model_id": "b3f37728132f4b06a0b8f53cdc26d2cc",
       "version_major": 2,
       "version_minor": 0
      },
      "text/plain": [
       "IntText(value=0, description='Global Min:')"
      ]
     },
     "metadata": {},
     "output_type": "display_data"
    }
   ],
   "source": [
    "widgets.IntText(\n",
    "    value=0,\n",
    "    description='Global Min:',\n",
    "    disabled=False\n",
    ")"
   ]
  },
  {
   "cell_type": "code",
   "execution_count": null,
   "id": "bc1fafc3",
   "metadata": {},
   "outputs": [],
   "source": []
  }
 ],
 "metadata": {
  "celltoolbar": "Tags",
  "kernelspec": {
   "display_name": "Python 3",
   "language": "python",
   "name": "python3"
  },
  "language_info": {
   "codemirror_mode": {
    "name": "ipython",
    "version": 3
   },
   "file_extension": ".py",
   "mimetype": "text/x-python",
   "name": "python",
   "nbconvert_exporter": "python",
   "pygments_lexer": "ipython3",
   "version": "3.8.8"
  }
 },
 "nbformat": 4,
 "nbformat_minor": 5
}
